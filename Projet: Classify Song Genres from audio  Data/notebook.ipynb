{
 "cells": [
  {
   "cell_type": "markdown",
   "id": "357a28b5",
   "metadata": {
    "slideshow": {
     "slide_type": "slide"
    }
   },
   "source": [
    "![alt text](image.png \"ok\")"
   ]
  },
  {
   "cell_type": "markdown",
   "id": "ccb1549b",
   "metadata": {
    "dc": {
     "key": "3"
    },
    "deletable": false,
    "editable": false,
    "run_control": {
     "frozen": true
    },
    "tags": [
     "context"
    ]
   },
   "source": [
    "## 1. Preparing our dataset\n",
    "<p><em>These recommendations are so on point! How does this playlist know me so well?</em></p>\n",
    "<p><img src=\"https://assets.datacamp.com/production/project_449/img/iphone_music.jpg\" alt=\"Project Image Record\" width=\"600px\"></p>\n",
    "<p>Over the past few years, streaming services with huge catalogs have become the primary means through which most people listen to their favorite music. But at the same time, the sheer amount of music on offer can mean users might be a bit overwhelmed when trying to look for newer music that suits their tastes.</p>\n",
    "<p>For this reason, streaming services have looked into means of categorizing music to allow for personalized recommendations. One method involves direct analysis of the raw audio information in a given song, scoring the raw data on a variety of metrics. Today, we'll be examining data compiled by a research group known as The Echo Nest. Our goal is to look through this dataset and classify songs as being either 'Hip-Hop' or 'Rock' - all without listening to a single one ourselves. In doing so, we will learn how to clean our data, do some exploratory data visualization, and use feature reduction towards the goal of feeding our data through some simple machine learning algorithms, such as decision trees and logistic regression.</p>\n",
    "<p>To begin with, let's load the metadata about our tracks alongside the track metrics compiled by The Echo Nest. A song is about more than its title, artist, and number of listens. We have another dataset that has musical features of each track such as <code>danceability</code> and <code>acousticness</code> on a scale from -1 to 1. These exist in two different files, which are in different formats - CSV and JSON. While CSV is a popular file format for denoting tabular data, JSON is another common file format in which databases often return the results of a given query.</p>\n",
    "<p>Let's start by creating two pandas <code>DataFrames</code> out of these files that we can merge so we have features and labels (often also referred to as <code>X</code> and <code>y</code>) for the classification later on.</p>"
   ]
  },
  {
   "cell_type": "code",
   "execution_count": 1,
   "id": "2f863a14",
   "metadata": {
    "dc": {
     "key": "3"
    },
    "slideshow": {
     "slide_type": "slide"
    },
    "tags": [
     "sample_code"
    ]
   },
   "outputs": [
    {
     "name": "stdout",
     "output_type": "stream",
     "text": [
      "<class 'pandas.core.frame.DataFrame'>\n",
      "Int64Index: 4802 entries, 0 to 4801\n",
      "Data columns (total 10 columns):\n",
      " #   Column            Non-Null Count  Dtype  \n",
      "---  ------            --------------  -----  \n",
      " 0   track_id          4802 non-null   int64  \n",
      " 1   acousticness      4802 non-null   float64\n",
      " 2   danceability      4802 non-null   float64\n",
      " 3   energy            4802 non-null   float64\n",
      " 4   instrumentalness  4802 non-null   float64\n",
      " 5   liveness          4802 non-null   float64\n",
      " 6   speechiness       4802 non-null   float64\n",
      " 7   tempo             4802 non-null   float64\n",
      " 8   valence           4802 non-null   float64\n",
      " 9   genre_top         4802 non-null   object \n",
      "dtypes: float64(8), int64(1), object(1)\n",
      "memory usage: 412.7+ KB\n"
     ]
    }
   ],
   "source": [
    "import pandas as pd\n",
    "\n",
    "# Read in track metadata with genre labels\n",
    "tracks = pd.read_csv('datasets/fma-rock-vs-hiphop.csv')\n",
    "\n",
    "# Read in track metrics with the features\n",
    "echonest_metrics = pd.read_json('datasets/echonest-metrics.json', precise_float=True)\n",
    "\n",
    "# Merge the relevant columns of tracks and echonest_metrics\n",
    "echo_tracks = echonest_metrics.merge(tracks[['genre_top', 'track_id']], on='track_id')\n",
    "\n",
    "# Inspect the resultant dataframe\n",
    "echo_tracks.info()"
   ]
  },
  {
   "cell_type": "markdown",
   "id": "5a4c44c9",
   "metadata": {
    "slideshow": {
     "slide_type": "slide"
    }
   },
   "source": [
    "### <font color=green>Vérifions également à quoi ressemble notre bloc de données.</font>"
   ]
  },
  {
   "cell_type": "code",
   "execution_count": 2,
   "id": "b93bbfde",
   "metadata": {
    "slideshow": {
     "slide_type": "slide"
    }
   },
   "outputs": [
    {
     "data": {
      "text/html": [
       "<div>\n",
       "<style scoped>\n",
       "    .dataframe tbody tr th:only-of-type {\n",
       "        vertical-align: middle;\n",
       "    }\n",
       "\n",
       "    .dataframe tbody tr th {\n",
       "        vertical-align: top;\n",
       "    }\n",
       "\n",
       "    .dataframe thead th {\n",
       "        text-align: right;\n",
       "    }\n",
       "</style>\n",
       "<table border=\"1\" class=\"dataframe\">\n",
       "  <thead>\n",
       "    <tr style=\"text-align: right;\">\n",
       "      <th></th>\n",
       "      <th>track_id</th>\n",
       "      <th>acousticness</th>\n",
       "      <th>danceability</th>\n",
       "      <th>energy</th>\n",
       "      <th>instrumentalness</th>\n",
       "      <th>liveness</th>\n",
       "      <th>speechiness</th>\n",
       "      <th>tempo</th>\n",
       "      <th>valence</th>\n",
       "      <th>genre_top</th>\n",
       "    </tr>\n",
       "  </thead>\n",
       "  <tbody>\n",
       "    <tr>\n",
       "      <th>0</th>\n",
       "      <td>2</td>\n",
       "      <td>0.416675</td>\n",
       "      <td>0.675894</td>\n",
       "      <td>0.634476</td>\n",
       "      <td>0.010628</td>\n",
       "      <td>0.177647</td>\n",
       "      <td>0.159310</td>\n",
       "      <td>165.922</td>\n",
       "      <td>0.576661</td>\n",
       "      <td>Hip-Hop</td>\n",
       "    </tr>\n",
       "    <tr>\n",
       "      <th>1</th>\n",
       "      <td>3</td>\n",
       "      <td>0.374408</td>\n",
       "      <td>0.528643</td>\n",
       "      <td>0.817461</td>\n",
       "      <td>0.001851</td>\n",
       "      <td>0.105880</td>\n",
       "      <td>0.461818</td>\n",
       "      <td>126.957</td>\n",
       "      <td>0.269240</td>\n",
       "      <td>Hip-Hop</td>\n",
       "    </tr>\n",
       "    <tr>\n",
       "      <th>2</th>\n",
       "      <td>5</td>\n",
       "      <td>0.043567</td>\n",
       "      <td>0.745566</td>\n",
       "      <td>0.701470</td>\n",
       "      <td>0.000697</td>\n",
       "      <td>0.373143</td>\n",
       "      <td>0.124595</td>\n",
       "      <td>100.260</td>\n",
       "      <td>0.621661</td>\n",
       "      <td>Hip-Hop</td>\n",
       "    </tr>\n",
       "    <tr>\n",
       "      <th>3</th>\n",
       "      <td>134</td>\n",
       "      <td>0.452217</td>\n",
       "      <td>0.513238</td>\n",
       "      <td>0.560410</td>\n",
       "      <td>0.019443</td>\n",
       "      <td>0.096567</td>\n",
       "      <td>0.525519</td>\n",
       "      <td>114.290</td>\n",
       "      <td>0.894072</td>\n",
       "      <td>Hip-Hop</td>\n",
       "    </tr>\n",
       "    <tr>\n",
       "      <th>4</th>\n",
       "      <td>153</td>\n",
       "      <td>0.988306</td>\n",
       "      <td>0.255661</td>\n",
       "      <td>0.979774</td>\n",
       "      <td>0.973006</td>\n",
       "      <td>0.121342</td>\n",
       "      <td>0.051740</td>\n",
       "      <td>90.241</td>\n",
       "      <td>0.034018</td>\n",
       "      <td>Rock</td>\n",
       "    </tr>\n",
       "  </tbody>\n",
       "</table>\n",
       "</div>"
      ],
      "text/plain": [
       "   track_id  acousticness  danceability    energy  instrumentalness  liveness  \\\n",
       "0         2      0.416675      0.675894  0.634476          0.010628  0.177647   \n",
       "1         3      0.374408      0.528643  0.817461          0.001851  0.105880   \n",
       "2         5      0.043567      0.745566  0.701470          0.000697  0.373143   \n",
       "3       134      0.452217      0.513238  0.560410          0.019443  0.096567   \n",
       "4       153      0.988306      0.255661  0.979774          0.973006  0.121342   \n",
       "\n",
       "   speechiness    tempo   valence genre_top  \n",
       "0     0.159310  165.922  0.576661   Hip-Hop  \n",
       "1     0.461818  126.957  0.269240   Hip-Hop  \n",
       "2     0.124595  100.260  0.621661   Hip-Hop  \n",
       "3     0.525519  114.290  0.894072   Hip-Hop  \n",
       "4     0.051740   90.241  0.034018      Rock  "
      ]
     },
     "execution_count": 2,
     "metadata": {},
     "output_type": "execute_result"
    }
   ],
   "source": [
    "echo_tracks.head(5)"
   ]
  },
  {
   "cell_type": "markdown",
   "id": "a09001ad",
   "metadata": {
    "dc": {
     "key": "10"
    },
    "deletable": false,
    "editable": false,
    "run_control": {
     "frozen": true
    },
    "tags": [
     "context"
    ]
   },
   "source": [
    "## 2. Pairwise relationships between continuous variables\n",
    "<p>We typically want to avoid using variables that have strong correlations with each other -- hence avoiding feature redundancy -- for a few reasons:</p>\n",
    "<ul>\n",
    "<li>To keep the model simple and improve interpretability (with many features, we run the risk of overfitting).</li>\n",
    "<li>When our datasets are very large, using fewer features can drastically speed up our computation time.</li>\n",
    "</ul>\n",
    "<p>To get a sense of whether there are any strongly correlated features in our data, we will use built-in functions in the <code>pandas</code> package.</p>"
   ]
  },
  {
   "cell_type": "code",
   "execution_count": 3,
   "id": "0ade91a4",
   "metadata": {
    "dc": {
     "key": "10"
    },
    "slideshow": {
     "slide_type": "slide"
    },
    "tags": [
     "sample_code"
    ]
   },
   "outputs": [
    {
     "data": {
      "text/html": [
       "<style  type=\"text/css\" >\n",
       "#T_69e78_row0_col0,#T_69e78_row1_col1,#T_69e78_row2_col2,#T_69e78_row3_col3,#T_69e78_row4_col4,#T_69e78_row5_col5,#T_69e78_row6_col6,#T_69e78_row7_col7,#T_69e78_row8_col8{\n",
       "            background-color:  #023858;\n",
       "            color:  #f1f1f1;\n",
       "        }#T_69e78_row0_col1{\n",
       "            background-color:  #eae6f1;\n",
       "            color:  #000000;\n",
       "        }#T_69e78_row0_col2{\n",
       "            background-color:  #d2d2e7;\n",
       "            color:  #000000;\n",
       "        }#T_69e78_row0_col3{\n",
       "            background-color:  #9ab8d8;\n",
       "            color:  #000000;\n",
       "        }#T_69e78_row0_col4,#T_69e78_row1_col0,#T_69e78_row1_col2,#T_69e78_row1_col3,#T_69e78_row1_col7,#T_69e78_row2_col5,#T_69e78_row3_col1,#T_69e78_row4_col0,#T_69e78_row4_col6,#T_69e78_row4_col8{\n",
       "            background-color:  #fff7fb;\n",
       "            color:  #000000;\n",
       "        }#T_69e78_row0_col5{\n",
       "            background-color:  #ede7f2;\n",
       "            color:  #000000;\n",
       "        }#T_69e78_row0_col6{\n",
       "            background-color:  #eee8f3;\n",
       "            color:  #000000;\n",
       "        }#T_69e78_row0_col7{\n",
       "            background-color:  #f0eaf4;\n",
       "            color:  #000000;\n",
       "        }#T_69e78_row0_col8{\n",
       "            background-color:  #e8e4f0;\n",
       "            color:  #000000;\n",
       "        }#T_69e78_row1_col4{\n",
       "            background-color:  #bdc8e1;\n",
       "            color:  #000000;\n",
       "        }#T_69e78_row1_col5,#T_69e78_row6_col0{\n",
       "            background-color:  #e4e1ef;\n",
       "            color:  #000000;\n",
       "        }#T_69e78_row1_col6,#T_69e78_row6_col8{\n",
       "            background-color:  #d9d8ea;\n",
       "            color:  #000000;\n",
       "        }#T_69e78_row1_col8,#T_69e78_row6_col4{\n",
       "            background-color:  #f7f0f7;\n",
       "            color:  #000000;\n",
       "        }#T_69e78_row2_col0{\n",
       "            background-color:  #c0c9e2;\n",
       "            color:  #000000;\n",
       "        }#T_69e78_row2_col1{\n",
       "            background-color:  #dddbec;\n",
       "            color:  #000000;\n",
       "        }#T_69e78_row2_col3,#T_69e78_row5_col3{\n",
       "            background-color:  #adc1dd;\n",
       "            color:  #000000;\n",
       "        }#T_69e78_row2_col4,#T_69e78_row6_col7{\n",
       "            background-color:  #ece7f2;\n",
       "            color:  #000000;\n",
       "        }#T_69e78_row2_col6,#T_69e78_row3_col8,#T_69e78_row6_col3{\n",
       "            background-color:  #b9c6e0;\n",
       "            color:  #000000;\n",
       "        }#T_69e78_row2_col7{\n",
       "            background-color:  #fdf5fa;\n",
       "            color:  #000000;\n",
       "        }#T_69e78_row2_col8{\n",
       "            background-color:  #73a9cf;\n",
       "            color:  #000000;\n",
       "        }#T_69e78_row3_col0{\n",
       "            background-color:  #bbc7e0;\n",
       "            color:  #000000;\n",
       "        }#T_69e78_row3_col2{\n",
       "            background-color:  #dcdaeb;\n",
       "            color:  #000000;\n",
       "        }#T_69e78_row3_col4{\n",
       "            background-color:  #d7d6e9;\n",
       "            color:  #000000;\n",
       "        }#T_69e78_row3_col5{\n",
       "            background-color:  #e3e0ee;\n",
       "            color:  #000000;\n",
       "        }#T_69e78_row3_col6{\n",
       "            background-color:  #e2dfee;\n",
       "            color:  #000000;\n",
       "        }#T_69e78_row3_col7,#T_69e78_row6_col2{\n",
       "            background-color:  #bfc9e1;\n",
       "            color:  #000000;\n",
       "        }#T_69e78_row4_col1{\n",
       "            background-color:  #9ebad9;\n",
       "            color:  #000000;\n",
       "        }#T_69e78_row4_col2{\n",
       "            background-color:  #f6eff7;\n",
       "            color:  #000000;\n",
       "        }#T_69e78_row4_col3{\n",
       "            background-color:  #b8c6e0;\n",
       "            color:  #000000;\n",
       "        }#T_69e78_row4_col5{\n",
       "            background-color:  #f4eef6;\n",
       "            color:  #000000;\n",
       "        }#T_69e78_row4_col7,#T_69e78_row7_col5{\n",
       "            background-color:  #ede8f3;\n",
       "            color:  #000000;\n",
       "        }#T_69e78_row5_col0,#T_69e78_row8_col7{\n",
       "            background-color:  #d8d7e9;\n",
       "            color:  #000000;\n",
       "        }#T_69e78_row5_col1,#T_69e78_row6_col1{\n",
       "            background-color:  #afc1dd;\n",
       "            color:  #000000;\n",
       "        }#T_69e78_row5_col2{\n",
       "            background-color:  #faf2f8;\n",
       "            color:  #000000;\n",
       "        }#T_69e78_row5_col4{\n",
       "            background-color:  #e1dfed;\n",
       "            color:  #000000;\n",
       "        }#T_69e78_row5_col6,#T_69e78_row8_col0{\n",
       "            background-color:  #d3d4e7;\n",
       "            color:  #000000;\n",
       "        }#T_69e78_row5_col7{\n",
       "            background-color:  #f1ebf5;\n",
       "            color:  #000000;\n",
       "        }#T_69e78_row5_col8,#T_69e78_row8_col5{\n",
       "            background-color:  #eee9f3;\n",
       "            color:  #000000;\n",
       "        }#T_69e78_row6_col5{\n",
       "            background-color:  #dedcec;\n",
       "            color:  #000000;\n",
       "        }#T_69e78_row7_col0{\n",
       "            background-color:  #d6d6e9;\n",
       "            color:  #000000;\n",
       "        }#T_69e78_row7_col1{\n",
       "            background-color:  #d1d2e6;\n",
       "            color:  #000000;\n",
       "        }#T_69e78_row7_col2{\n",
       "            background-color:  #f3edf5;\n",
       "            color:  #000000;\n",
       "        }#T_69e78_row7_col3{\n",
       "            background-color:  #7dacd1;\n",
       "            color:  #000000;\n",
       "        }#T_69e78_row7_col4,#T_69e78_row7_col8{\n",
       "            background-color:  #d2d3e7;\n",
       "            color:  #000000;\n",
       "        }#T_69e78_row7_col6{\n",
       "            background-color:  #dad9ea;\n",
       "            color:  #000000;\n",
       "        }#T_69e78_row8_col1{\n",
       "            background-color:  #cccfe5;\n",
       "            color:  #000000;\n",
       "        }#T_69e78_row8_col2{\n",
       "            background-color:  #69a5cc;\n",
       "            color:  #000000;\n",
       "        }#T_69e78_row8_col3{\n",
       "            background-color:  #80aed2;\n",
       "            color:  #000000;\n",
       "        }#T_69e78_row8_col4{\n",
       "            background-color:  #efe9f3;\n",
       "            color:  #000000;\n",
       "        }#T_69e78_row8_col6{\n",
       "            background-color:  #ced0e6;\n",
       "            color:  #000000;\n",
       "        }</style><table id=\"T_69e78_\" ><thead>    <tr>        <th class=\"blank level0\" ></th>        <th class=\"col_heading level0 col0\" >track_id</th>        <th class=\"col_heading level0 col1\" >acousticness</th>        <th class=\"col_heading level0 col2\" >danceability</th>        <th class=\"col_heading level0 col3\" >energy</th>        <th class=\"col_heading level0 col4\" >instrumentalness</th>        <th class=\"col_heading level0 col5\" >liveness</th>        <th class=\"col_heading level0 col6\" >speechiness</th>        <th class=\"col_heading level0 col7\" >tempo</th>        <th class=\"col_heading level0 col8\" >valence</th>    </tr></thead><tbody>\n",
       "                <tr>\n",
       "                        <th id=\"T_69e78_level0_row0\" class=\"row_heading level0 row0\" >track_id</th>\n",
       "                        <td id=\"T_69e78_row0_col0\" class=\"data row0 col0\" >1.000000</td>\n",
       "                        <td id=\"T_69e78_row0_col1\" class=\"data row0 col1\" >-0.279829</td>\n",
       "                        <td id=\"T_69e78_row0_col2\" class=\"data row0 col2\" >0.102056</td>\n",
       "                        <td id=\"T_69e78_row0_col3\" class=\"data row0 col3\" >0.121991</td>\n",
       "                        <td id=\"T_69e78_row0_col4\" class=\"data row0 col4\" >-0.283206</td>\n",
       "                        <td id=\"T_69e78_row0_col5\" class=\"data row0 col5\" >-0.004059</td>\n",
       "                        <td id=\"T_69e78_row0_col6\" class=\"data row0 col6\" >-0.075077</td>\n",
       "                        <td id=\"T_69e78_row0_col7\" class=\"data row0 col7\" >0.004313</td>\n",
       "                        <td id=\"T_69e78_row0_col8\" class=\"data row0 col8\" >0.020201</td>\n",
       "            </tr>\n",
       "            <tr>\n",
       "                        <th id=\"T_69e78_level0_row1\" class=\"row_heading level0 row1\" >acousticness</th>\n",
       "                        <td id=\"T_69e78_row1_col0\" class=\"data row1 col0\" >-0.279829</td>\n",
       "                        <td id=\"T_69e78_row1_col1\" class=\"data row1 col1\" >1.000000</td>\n",
       "                        <td id=\"T_69e78_row1_col2\" class=\"data row1 col2\" >-0.189599</td>\n",
       "                        <td id=\"T_69e78_row1_col3\" class=\"data row1 col3\" >-0.477273</td>\n",
       "                        <td id=\"T_69e78_row1_col4\" class=\"data row1 col4\" >0.110033</td>\n",
       "                        <td id=\"T_69e78_row1_col5\" class=\"data row1 col5\" >0.041319</td>\n",
       "                        <td id=\"T_69e78_row1_col6\" class=\"data row1 col6\" >0.038785</td>\n",
       "                        <td id=\"T_69e78_row1_col7\" class=\"data row1 col7\" >-0.110701</td>\n",
       "                        <td id=\"T_69e78_row1_col8\" class=\"data row1 col8\" >-0.085436</td>\n",
       "            </tr>\n",
       "            <tr>\n",
       "                        <th id=\"T_69e78_level0_row2\" class=\"row_heading level0 row2\" >danceability</th>\n",
       "                        <td id=\"T_69e78_row2_col0\" class=\"data row2 col0\" >0.102056</td>\n",
       "                        <td id=\"T_69e78_row2_col1\" class=\"data row2 col1\" >-0.189599</td>\n",
       "                        <td id=\"T_69e78_row2_col2\" class=\"data row2 col2\" >1.000000</td>\n",
       "                        <td id=\"T_69e78_row2_col3\" class=\"data row2 col3\" >0.045345</td>\n",
       "                        <td id=\"T_69e78_row2_col4\" class=\"data row2 col4\" >-0.118033</td>\n",
       "                        <td id=\"T_69e78_row2_col5\" class=\"data row2 col5\" >-0.143339</td>\n",
       "                        <td id=\"T_69e78_row2_col6\" class=\"data row2 col6\" >0.171311</td>\n",
       "                        <td id=\"T_69e78_row2_col7\" class=\"data row2 col7\" >-0.094352</td>\n",
       "                        <td id=\"T_69e78_row2_col8\" class=\"data row2 col8\" >0.428515</td>\n",
       "            </tr>\n",
       "            <tr>\n",
       "                        <th id=\"T_69e78_level0_row3\" class=\"row_heading level0 row3\" >energy</th>\n",
       "                        <td id=\"T_69e78_row3_col0\" class=\"data row3 col0\" >0.121991</td>\n",
       "                        <td id=\"T_69e78_row3_col1\" class=\"data row3 col1\" >-0.477273</td>\n",
       "                        <td id=\"T_69e78_row3_col2\" class=\"data row3 col2\" >0.045345</td>\n",
       "                        <td id=\"T_69e78_row3_col3\" class=\"data row3 col3\" >1.000000</td>\n",
       "                        <td id=\"T_69e78_row3_col4\" class=\"data row3 col4\" >-0.002412</td>\n",
       "                        <td id=\"T_69e78_row3_col5\" class=\"data row3 col5\" >0.045752</td>\n",
       "                        <td id=\"T_69e78_row3_col6\" class=\"data row3 col6\" >-0.008645</td>\n",
       "                        <td id=\"T_69e78_row3_col7\" class=\"data row3 col7\" >0.227324</td>\n",
       "                        <td id=\"T_69e78_row3_col8\" class=\"data row3 col8\" >0.219384</td>\n",
       "            </tr>\n",
       "            <tr>\n",
       "                        <th id=\"T_69e78_level0_row4\" class=\"row_heading level0 row4\" >instrumentalness</th>\n",
       "                        <td id=\"T_69e78_row4_col0\" class=\"data row4 col0\" >-0.283206</td>\n",
       "                        <td id=\"T_69e78_row4_col1\" class=\"data row4 col1\" >0.110033</td>\n",
       "                        <td id=\"T_69e78_row4_col2\" class=\"data row4 col2\" >-0.118033</td>\n",
       "                        <td id=\"T_69e78_row4_col3\" class=\"data row4 col3\" >-0.002412</td>\n",
       "                        <td id=\"T_69e78_row4_col4\" class=\"data row4 col4\" >1.000000</td>\n",
       "                        <td id=\"T_69e78_row4_col5\" class=\"data row4 col5\" >-0.058593</td>\n",
       "                        <td id=\"T_69e78_row4_col6\" class=\"data row4 col6\" >-0.216689</td>\n",
       "                        <td id=\"T_69e78_row4_col7\" class=\"data row4 col7\" >0.023003</td>\n",
       "                        <td id=\"T_69e78_row4_col8\" class=\"data row4 col8\" >-0.145200</td>\n",
       "            </tr>\n",
       "            <tr>\n",
       "                        <th id=\"T_69e78_level0_row5\" class=\"row_heading level0 row5\" >liveness</th>\n",
       "                        <td id=\"T_69e78_row5_col0\" class=\"data row5 col0\" >-0.004059</td>\n",
       "                        <td id=\"T_69e78_row5_col1\" class=\"data row5 col1\" >0.041319</td>\n",
       "                        <td id=\"T_69e78_row5_col2\" class=\"data row5 col2\" >-0.143339</td>\n",
       "                        <td id=\"T_69e78_row5_col3\" class=\"data row5 col3\" >0.045752</td>\n",
       "                        <td id=\"T_69e78_row5_col4\" class=\"data row5 col4\" >-0.058593</td>\n",
       "                        <td id=\"T_69e78_row5_col5\" class=\"data row5 col5\" >1.000000</td>\n",
       "                        <td id=\"T_69e78_row5_col6\" class=\"data row5 col6\" >0.073104</td>\n",
       "                        <td id=\"T_69e78_row5_col7\" class=\"data row5 col7\" >-0.007566</td>\n",
       "                        <td id=\"T_69e78_row5_col8\" class=\"data row5 col8\" >-0.017886</td>\n",
       "            </tr>\n",
       "            <tr>\n",
       "                        <th id=\"T_69e78_level0_row6\" class=\"row_heading level0 row6\" >speechiness</th>\n",
       "                        <td id=\"T_69e78_row6_col0\" class=\"data row6 col0\" >-0.075077</td>\n",
       "                        <td id=\"T_69e78_row6_col1\" class=\"data row6 col1\" >0.038785</td>\n",
       "                        <td id=\"T_69e78_row6_col2\" class=\"data row6 col2\" >0.171311</td>\n",
       "                        <td id=\"T_69e78_row6_col3\" class=\"data row6 col3\" >-0.008645</td>\n",
       "                        <td id=\"T_69e78_row6_col4\" class=\"data row6 col4\" >-0.216689</td>\n",
       "                        <td id=\"T_69e78_row6_col5\" class=\"data row6 col5\" >0.073104</td>\n",
       "                        <td id=\"T_69e78_row6_col6\" class=\"data row6 col6\" >1.000000</td>\n",
       "                        <td id=\"T_69e78_row6_col7\" class=\"data row6 col7\" >0.032188</td>\n",
       "                        <td id=\"T_69e78_row6_col8\" class=\"data row6 col8\" >0.094794</td>\n",
       "            </tr>\n",
       "            <tr>\n",
       "                        <th id=\"T_69e78_level0_row7\" class=\"row_heading level0 row7\" >tempo</th>\n",
       "                        <td id=\"T_69e78_row7_col0\" class=\"data row7 col0\" >0.004313</td>\n",
       "                        <td id=\"T_69e78_row7_col1\" class=\"data row7 col1\" >-0.110701</td>\n",
       "                        <td id=\"T_69e78_row7_col2\" class=\"data row7 col2\" >-0.094352</td>\n",
       "                        <td id=\"T_69e78_row7_col3\" class=\"data row7 col3\" >0.227324</td>\n",
       "                        <td id=\"T_69e78_row7_col4\" class=\"data row7 col4\" >0.023003</td>\n",
       "                        <td id=\"T_69e78_row7_col5\" class=\"data row7 col5\" >-0.007566</td>\n",
       "                        <td id=\"T_69e78_row7_col6\" class=\"data row7 col6\" >0.032188</td>\n",
       "                        <td id=\"T_69e78_row7_col7\" class=\"data row7 col7\" >1.000000</td>\n",
       "                        <td id=\"T_69e78_row7_col8\" class=\"data row7 col8\" >0.129911</td>\n",
       "            </tr>\n",
       "            <tr>\n",
       "                        <th id=\"T_69e78_level0_row8\" class=\"row_heading level0 row8\" >valence</th>\n",
       "                        <td id=\"T_69e78_row8_col0\" class=\"data row8 col0\" >0.020201</td>\n",
       "                        <td id=\"T_69e78_row8_col1\" class=\"data row8 col1\" >-0.085436</td>\n",
       "                        <td id=\"T_69e78_row8_col2\" class=\"data row8 col2\" >0.428515</td>\n",
       "                        <td id=\"T_69e78_row8_col3\" class=\"data row8 col3\" >0.219384</td>\n",
       "                        <td id=\"T_69e78_row8_col4\" class=\"data row8 col4\" >-0.145200</td>\n",
       "                        <td id=\"T_69e78_row8_col5\" class=\"data row8 col5\" >-0.017886</td>\n",
       "                        <td id=\"T_69e78_row8_col6\" class=\"data row8 col6\" >0.094794</td>\n",
       "                        <td id=\"T_69e78_row8_col7\" class=\"data row8 col7\" >0.129911</td>\n",
       "                        <td id=\"T_69e78_row8_col8\" class=\"data row8 col8\" >1.000000</td>\n",
       "            </tr>\n",
       "    </tbody></table>"
      ],
      "text/plain": [
       "<pandas.io.formats.style.Styler at 0x1b4c9a3cdf0>"
      ]
     },
     "execution_count": 3,
     "metadata": {},
     "output_type": "execute_result"
    }
   ],
   "source": [
    "# Create a correlation matrix\n",
    "corr_metrics = echonest_metrics.corr()\n",
    "corr_metrics.style.background_gradient()"
   ]
  },
  {
   "cell_type": "markdown",
   "id": "6172d89d",
   "metadata": {
    "slideshow": {
     "slide_type": "slide"
    }
   },
   "source": [
    "> #### <font color=red> Rq:</font> À partir du graphique ci-dessus, nous pouvons voir qu'il n'y a pas de corrélation très forte entre l'une des caractéristiques. "
   ]
  },
  {
   "cell_type": "markdown",
   "id": "6bfc6601",
   "metadata": {
    "dc": {
     "key": "17"
    },
    "deletable": false,
    "editable": false,
    "run_control": {
     "frozen": true
    },
    "tags": [
     "context"
    ]
   },
   "source": [
    "## 3. Normalizing the feature data\n",
    "<p>As mentioned earlier, it can be particularly useful to simplify our models and use as few features as necessary to achieve the best result. Since we didn't find any particular strong correlations between our features, we can instead use a common approach to reduce the number of features called <strong>principal component analysis (PCA)</strong>. </p>\n",
    "<p>It is possible that the variance between genres can be explained by just a few features in the dataset. PCA rotates the data along the axis of highest variance, thus allowing us to determine the relative contribution of each feature of our data towards the variance between classes. </p>\n",
    "<p>However, since PCA uses the absolute variance of a feature to rotate the data, a feature with a broader range of values will overpower and bias the algorithm relative to the other features. To avoid this, we must first normalize our data. There are a few methods to do this, but a common way is through <em>standardization</em>, such that all features have a mean = 0 and standard deviation = 1 (the resultant is a z-score).</p>"
   ]
  },
  {
   "cell_type": "code",
   "execution_count": 4,
   "id": "4a3b4212",
   "metadata": {
    "dc": {
     "key": "17"
    },
    "jupyter": {
     "outputs_hidden": true
    },
    "slideshow": {
     "slide_type": "slide"
    },
    "tags": [
     "sample_code"
    ]
   },
   "outputs": [],
   "source": [
    "# Define our features \n",
    "features = echo_tracks.drop(columns=['genre_top', 'track_id'])\n",
    "\n",
    "# Define our labels\n",
    "labels = echo_tracks['genre_top']\n",
    "\n",
    "# Import the StandardScaler\n",
    "from sklearn.preprocessing import StandardScaler\n",
    "\n",
    "# Scale the features and set the values to a new variable\n",
    "scaler = StandardScaler()\n",
    "scaled_train_features = scaler.fit_transform(features)"
   ]
  },
  {
   "cell_type": "markdown",
   "id": "4e97f416",
   "metadata": {
    "slideshow": {
     "slide_type": "slide"
    }
   },
   "source": [
    "### <font color=green>Voyons à quoi ressemble notre bloc de données après la normalisation.</font>"
   ]
  },
  {
   "cell_type": "code",
   "execution_count": 5,
   "id": "5986b874",
   "metadata": {
    "slideshow": {
     "slide_type": "slide"
    }
   },
   "outputs": [
    {
     "data": {
      "text/html": [
       "<div>\n",
       "<style scoped>\n",
       "    .dataframe tbody tr th:only-of-type {\n",
       "        vertical-align: middle;\n",
       "    }\n",
       "\n",
       "    .dataframe tbody tr th {\n",
       "        vertical-align: top;\n",
       "    }\n",
       "\n",
       "    .dataframe thead th {\n",
       "        text-align: right;\n",
       "    }\n",
       "</style>\n",
       "<table border=\"1\" class=\"dataframe\">\n",
       "  <thead>\n",
       "    <tr style=\"text-align: right;\">\n",
       "      <th></th>\n",
       "      <th>0</th>\n",
       "      <th>1</th>\n",
       "      <th>2</th>\n",
       "      <th>3</th>\n",
       "      <th>4</th>\n",
       "      <th>5</th>\n",
       "      <th>6</th>\n",
       "      <th>7</th>\n",
       "    </tr>\n",
       "  </thead>\n",
       "  <tbody>\n",
       "    <tr>\n",
       "      <th>0</th>\n",
       "      <td>-0.191210</td>\n",
       "      <td>1.304420</td>\n",
       "      <td>0.038316</td>\n",
       "      <td>-1.576494</td>\n",
       "      <td>-0.068755</td>\n",
       "      <td>0.373034</td>\n",
       "      <td>1.153979</td>\n",
       "      <td>0.462287</td>\n",
       "    </tr>\n",
       "    <tr>\n",
       "      <th>1</th>\n",
       "      <td>-0.306036</td>\n",
       "      <td>0.501886</td>\n",
       "      <td>0.788176</td>\n",
       "      <td>-1.599809</td>\n",
       "      <td>-0.545463</td>\n",
       "      <td>2.446155</td>\n",
       "      <td>0.007914</td>\n",
       "      <td>-0.690811</td>\n",
       "    </tr>\n",
       "    <tr>\n",
       "      <th>2</th>\n",
       "      <td>-1.204813</td>\n",
       "      <td>1.684139</td>\n",
       "      <td>0.312852</td>\n",
       "      <td>-1.602876</td>\n",
       "      <td>1.229828</td>\n",
       "      <td>0.135130</td>\n",
       "      <td>-0.777317</td>\n",
       "      <td>0.631077</td>\n",
       "    </tr>\n",
       "    <tr>\n",
       "      <th>3</th>\n",
       "      <td>-0.094655</td>\n",
       "      <td>0.417927</td>\n",
       "      <td>-0.265203</td>\n",
       "      <td>-1.553079</td>\n",
       "      <td>-0.607326</td>\n",
       "      <td>2.882707</td>\n",
       "      <td>-0.364657</td>\n",
       "      <td>1.652859</td>\n",
       "    </tr>\n",
       "    <tr>\n",
       "      <th>4</th>\n",
       "      <td>1.361706</td>\n",
       "      <td>-0.985896</td>\n",
       "      <td>1.453323</td>\n",
       "      <td>0.979975</td>\n",
       "      <td>-0.442757</td>\n",
       "      <td>-0.364157</td>\n",
       "      <td>-1.072003</td>\n",
       "      <td>-1.573102</td>\n",
       "    </tr>\n",
       "  </tbody>\n",
       "</table>\n",
       "</div>"
      ],
      "text/plain": [
       "          0         1         2         3         4         5         6  \\\n",
       "0 -0.191210  1.304420  0.038316 -1.576494 -0.068755  0.373034  1.153979   \n",
       "1 -0.306036  0.501886  0.788176 -1.599809 -0.545463  2.446155  0.007914   \n",
       "2 -1.204813  1.684139  0.312852 -1.602876  1.229828  0.135130 -0.777317   \n",
       "3 -0.094655  0.417927 -0.265203 -1.553079 -0.607326  2.882707 -0.364657   \n",
       "4  1.361706 -0.985896  1.453323  0.979975 -0.442757 -0.364157 -1.072003   \n",
       "\n",
       "          7  \n",
       "0  0.462287  \n",
       "1 -0.690811  \n",
       "2  0.631077  \n",
       "3  1.652859  \n",
       "4 -1.573102  "
      ]
     },
     "execution_count": 5,
     "metadata": {},
     "output_type": "execute_result"
    }
   ],
   "source": [
    "pd.DataFrame(scaled_train_features).head(5)"
   ]
  },
  {
   "cell_type": "markdown",
   "id": "2f9aabc0",
   "metadata": {
    "dc": {
     "key": "24"
    },
    "deletable": false,
    "editable": false,
    "run_control": {
     "frozen": true
    },
    "tags": [
     "context"
    ]
   },
   "source": [
    "## 4. Principal Component Analysis on our scaled data\n",
    "<p>Now that we have preprocessed our data, we are ready to use PCA to determine by how much we can reduce the dimensionality of our data. We can use <strong>scree-plots</strong> and <strong>cumulative explained ratio plots</strong> to find the number of components to use in further analyses.</p>\n",
    "<p>Scree-plots display the number of components against the variance explained by each component, sorted in descending order of variance. Scree-plots help us get a better sense of which components explain a sufficient amount of variance in our data. When using scree plots, an 'elbow' (a steep drop from one data point to the next) in the plot is typically used to decide on an appropriate cutoff.</p>"
   ]
  },
  {
   "cell_type": "code",
   "execution_count": 6,
   "id": "a28e1eec",
   "metadata": {
    "dc": {
     "key": "24"
    },
    "slideshow": {
     "slide_type": "slide"
    },
    "tags": [
     "sample_code"
    ]
   },
   "outputs": [
    {
     "name": "stdout",
     "output_type": "stream",
     "text": [
      "Explained variance ratio : \n",
      "[0.24297674 0.18044316 0.13650309 0.12994089 0.11056248 0.08302245\n",
      " 0.06923783 0.04731336]\n",
      "\n",
      "\n",
      "Number of components = 8\n"
     ]
    },
    {
     "data": {
      "text/plain": [
       "Text(0.5, 0, 'Principal Component #')"
      ]
     },
     "execution_count": 6,
     "metadata": {},
     "output_type": "execute_result"
    },
    {
     "data": {
      "image/png": "[encoded data removed]",
      "text/plain": [
       "<Figure size 432x288 with 1 Axes>"
      ]
     },
     "metadata": {
      "needs_background": "light"
     },
     "output_type": "display_data"
    }
   ],
   "source": [
    "# This is just to make plots appear in the notebook\n",
    "%matplotlib inline\n",
    "\n",
    "# Import our plotting module, and PCA class\n",
    "import matplotlib.pyplot as plt\n",
    "from sklearn.decomposition import PCA\n",
    "\n",
    "# Get our explained variance ratios from PCA using all features\n",
    "pca = PCA()\n",
    "pca.fit(scaled_train_features)\n",
    "exp_variance = pca.explained_variance_ratio_\n",
    "\n",
    "\n",
    "print(\"Explained variance ratio : \\n{}\".format(pca.explained_variance_ratio_))\n",
    "print(\"\\n\")\n",
    "print(\"Number of components = {}\".format(pca.n_components_))  \n",
    "\n",
    "\n",
    "# plot the explained variance using a barplot\n",
    "fig, ax = plt.subplots()\n",
    "ax.bar(range(pca.n_components_), exp_variance)    #ax.bar(range(8), exp_variance)\n",
    "ax.plot(range(pca.n_components_), exp_variance, color='black')\n",
    "ax.set_xlabel('Principal Component #')"
   ]
  },
  {
   "cell_type": "markdown",
   "id": "0de80530",
   "metadata": {
    "dc": {
     "key": "31"
    },
    "deletable": false,
    "editable": false,
    "run_control": {
     "frozen": true
    },
    "tags": [
     "context"
    ]
   },
   "source": [
    "## 5. Further visualization of PCA\n",
    "<p>Unfortunately, there does not appear to be a clear elbow in this scree plot, which means it is not straightforward to find the number of intrinsic dimensions using this method. </p>\n",
    "<p>But all is not lost! Instead, we can also look at the <strong>cumulative explained variance plot</strong> to determine how many features are required to explain, say, about 85% of the variance (cutoffs are somewhat arbitrary here, and usually decided upon by 'rules of thumb'). Once we determine the appropriate number of components, we can perform PCA with that many components, ideally reducing the dimensionality of our data.</p>"
   ]
  },
  {
   "cell_type": "code",
   "execution_count": 7,
   "id": "52e5065c",
   "metadata": {
    "dc": {
     "key": "31"
    },
    "slideshow": {
     "slide_type": "slide"
    },
    "tags": [
     "sample_code"
    ]
   },
   "outputs": [
    {
     "data": {
      "image/png": "[encoded data removed]",
      "text/plain": [
       "<Figure size 432x288 with 1 Axes>"
      ]
     },
     "metadata": {
      "needs_background": "light"
     },
     "output_type": "display_data"
    }
   ],
   "source": [
    "# Import numpy\n",
    "import numpy as np\n",
    "\n",
    "# Calculate the cumulative explained variance\n",
    "cum_exp_variance = np.cumsum(exp_variance)\n",
    "\n",
    "# Plot the cumulative explained variance and draw a dashed line at 0.85.\n",
    "fig, ax = plt.subplots()\n",
    "ax.plot(cum_exp_variance)  #ax.plot(range(8), cum_exp_variance)\n",
    "ax.axhline(y=0.85, linestyle='--')\n",
    "\n",
    "# choose the n_components where about 85% of our variance can be explained\n",
    "n_components = 7\n",
    "\n",
    "# Perform PCA with the chosen number of components and project data onto components\n",
    "pca = PCA(n_components, random_state=10)\n",
    "pca.fit(scaled_train_features)\n",
    "pca_projection = pca.transform(scaled_train_features)"
   ]
  },
  {
   "cell_type": "markdown",
   "id": "a48034f9",
   "metadata": {
    "slideshow": {
     "slide_type": "slide"
    }
   },
   "source": [
    "> #### <font color=red> Rq:</font> Nous pouvons maintenant utiliser la projection PCA de dimension inférieure des données pour classer les chansons en genres. Pour ce faire, nous devons d'abord diviser notre ensemble de données en sous-ensembles « train » et « test », où le sous-ensemble « train » sera utilisé pour entraîner notre modèle tandis que l'ensemble de données « test » permet la validation des performances du modèle."
   ]
  },
  {
   "cell_type": "markdown",
   "id": "649cce27",
   "metadata": {
    "dc": {
     "key": "38"
    },
    "deletable": false,
    "editable": false,
    "run_control": {
     "frozen": true
    },
    "tags": [
     "context"
    ]
   },
   "source": [
    "## 6. Train a decision tree to classify genre\n",
    "<p>Now we can use the lower dimensional PCA projection of the data to classify songs into genres. To do that, we first need to split our dataset into 'train' and 'test' subsets, where the 'train' subset will be used to train our model while the 'test' dataset allows for model performance validation.</p>\n",
    "<p>Here, we will be using a simple algorithm known as a decision tree. Decision trees are rule-based classifiers that take in features and follow a 'tree structure' of binary decisions to ultimately classify a data point into one of two or more categories. In addition to being easy to both use and interpret, decision trees allow us to visualize the 'logic flowchart' that the model generates from the training data.</p>\n",
    "<p>Here is an example of a decision tree that demonstrates the process by which an input image (in this case, of a shape) might be classified based on the number of sides it has and whether it is rotated.</p>\n",
    "<p><img src=\"https://assets.datacamp.com/production/project_449/img/simple_decision_tree.png\" alt=\"Decision Tree Flow Chart Example\" width=\"350px\"></p>"
   ]
  },
  {
   "cell_type": "code",
   "execution_count": 8,
   "id": "a5aa969f",
   "metadata": {
    "dc": {
     "key": "38"
    },
    "jupyter": {
     "outputs_hidden": true
    },
    "slideshow": {
     "slide_type": "slide"
    },
    "tags": [
     "sample_code"
    ]
   },
   "outputs": [],
   "source": [
    "# Import train_test_split function and Decision tree classifier\n",
    "from sklearn.model_selection import train_test_split\n",
    "from sklearn.tree import DecisionTreeClassifier\n",
    "# Split our data\n",
    "train_features, test_features, train_labels, test_labels = train_test_split(pca_projection, labels, random_state=10)\n",
    "\n",
    "# Train our decision tree\n",
    "tree = DecisionTreeClassifier(random_state=10)\n",
    "tree.fit(train_features, train_labels)\n",
    "\n",
    "# Predict the labels for the test data\n",
    "pred_labels_tree = tree.predict(test_features)"
   ]
  },
  {
   "cell_type": "markdown",
   "id": "e554b14c",
   "metadata": {
    "dc": {
     "key": "45"
    },
    "deletable": false,
    "editable": false,
    "run_control": {
     "frozen": true
    },
    "tags": [
     "context"
    ]
   },
   "source": [
    "## 7. Compare our decision tree to a logistic regression\n",
    "<p>Although our tree's performance is decent, it's a bad idea to immediately assume that it's therefore the perfect tool for this job -- there's always the possibility of other models that will perform even better! It's always a worthwhile idea to at least test a few other algorithms and find the one that's best for our data.</p>\n",
    "<p>Sometimes simplest is best, and so we will start by applying <strong>logistic regression</strong>. Logistic regression makes use of what's called the logistic function to calculate the odds that a given data point belongs to a given class. Once we have both models, we can compare them on a few performance metrics, such as false positive and false negative rate (or how many points are inaccurately classified). </p>"
   ]
  },
  {
   "cell_type": "code",
   "execution_count": 9,
   "id": "94e174b6",
   "metadata": {
    "dc": {
     "key": "45"
    },
    "slideshow": {
     "slide_type": "slide"
    },
    "tags": [
     "sample_code"
    ]
   },
   "outputs": [
    {
     "name": "stdout",
     "output_type": "stream",
     "text": [
      "Decision Tree: \n",
      "               precision    recall  f1-score   support\n",
      "\n",
      "     Hip-Hop       0.68      0.66      0.67       235\n",
      "        Rock       0.92      0.93      0.92       966\n",
      "\n",
      "    accuracy                           0.87      1201\n",
      "   macro avg       0.80      0.79      0.80      1201\n",
      "weighted avg       0.87      0.87      0.87      1201\n",
      "\n",
      "Logistic Regression: \n",
      "               precision    recall  f1-score   support\n",
      "\n",
      "     Hip-Hop       0.78      0.57      0.66       235\n",
      "        Rock       0.90      0.96      0.93       966\n",
      "\n",
      "    accuracy                           0.88      1201\n",
      "   macro avg       0.84      0.76      0.79      1201\n",
      "weighted avg       0.88      0.88      0.88      1201\n",
      "\n"
     ]
    }
   ],
   "source": [
    "# Import LogisticRegression\n",
    "from sklearn.linear_model import LogisticRegression\n",
    "\n",
    "# Train our logistic regression and predict labels for the test set\n",
    "logreg = LogisticRegression(random_state=10)\n",
    "logreg.fit(train_features, train_labels)\n",
    "pred_labels_logit = logreg.predict(test_features)\n",
    "\n",
    "# Create the classification report for both models\n",
    "from sklearn.metrics import classification_report\n",
    "class_rep_tree = classification_report(test_labels, pred_labels_tree)\n",
    "class_rep_log =  classification_report(test_labels, pred_labels_logit)\n",
    "\n",
    "print(\"Decision Tree: \\n\", class_rep_tree)\n",
    "print(\"Logistic Regression: \\n\", class_rep_log)"
   ]
  },
  {
   "cell_type": "markdown",
   "id": "e4aa22ef",
   "metadata": {
    "slideshow": {
     "slide_type": "slide"
    }
   },
   "source": [
    "> #### <font color=red> Rq:</font> En regardant notre rapport de classification, nous pouvons voir que les chansons rock sont assez bien classées, mais les chansons hip-hop sont classées de manière disproportionnée."
   ]
  },
  {
   "cell_type": "markdown",
   "id": "ec418dca",
   "metadata": {
    "dc": {
     "key": "52"
    },
    "deletable": false,
    "editable": false,
    "run_control": {
     "frozen": true
    },
    "tags": [
     "context"
    ]
   },
   "source": [
    "## 8. Balance our data for greater performance\n",
    "<p>Both our models do similarly well, boasting an average precision of 87% each. However, looking at our classification report, we can see that rock songs are fairly well classified, but hip-hop songs are disproportionately misclassified as rock songs. </p>\n",
    "<p>Why might this be the case? Well, just by looking at the number of data points we have for each class, we see that we have far more data points for the rock classification than for hip-hop, potentially skewing our model's ability to distinguish between classes. This also tells us that most of our model's accuracy is driven by its ability to classify just rock songs, which is less than ideal.</p>\n",
    "<p>To account for this, we can weight the value of a correct classification in each class inversely to the occurrence of data points for each class. Since a correct classification for \"Rock\" is not more important than a correct classification for \"Hip-Hop\" (and vice versa), we only need to account for differences in <em>sample size</em> of our data points when weighting our classes here, and not relative importance of each class. </p>"
   ]
  },
  {
   "cell_type": "code",
   "execution_count": 10,
   "id": "9fe99a24",
   "metadata": {
    "dc": {
     "key": "52"
    },
    "jupyter": {
     "outputs_hidden": true
    },
    "slideshow": {
     "slide_type": "slide"
    },
    "tags": [
     "sample_code"
    ]
   },
   "outputs": [],
   "source": [
    "# Subset only the hip-hop tracks, and then only the rock tracks\n",
    "hop_only = echo_tracks.loc[echo_tracks['genre_top'] == 'Hip-Hop']\n",
    "rock_only = echo_tracks.loc[echo_tracks['genre_top'] == 'Rock']\n",
    "\n",
    "# sample the rocks songs to be the same number as there are hip-hop songs\n",
    "rock_only = rock_only.sample(hop_only.shape[0], random_state=10)\n",
    "\n",
    "# concatenate the dataframes rock_only and hop_only\n",
    "rock_hop_bal = pd.concat([rock_only, hop_only])\n",
    "\n",
    "# The features, labels, and pca projection are created for the balanced dataframe\n",
    "features = rock_hop_bal.drop(['genre_top', 'track_id'], axis=1) \n",
    "labels = rock_hop_bal['genre_top']\n",
    "pca_projection = pca.fit_transform(scaler.fit_transform(features))\n",
    "\n",
    "# Redefine the train and test set with the pca_projection from the balanced data\n",
    "train_features, test_features, train_labels, test_labels = train_test_split(pca_projection, labels, random_state=10)"
   ]
  },
  {
   "cell_type": "markdown",
   "id": "a25deb95",
   "metadata": {
    "slideshow": {
     "slide_type": "slide"
    }
   },
   "source": [
    "> #### <font color=red> Rq:</font> Nous avons maintenant équilibré notre ensemble de données."
   ]
  },
  {
   "cell_type": "markdown",
   "id": "ae5a34cf",
   "metadata": {
    "dc": {
     "key": "59"
    },
    "deletable": false,
    "editable": false,
    "run_control": {
     "frozen": true
    },
    "tags": [
     "context"
    ]
   },
   "source": [
    "## 9. Does balancing our dataset improve model bias?\n",
    "<p>We've now balanced our dataset, but in doing so, we've removed a lot of data points that might have been crucial to training our models. Let's test to see if balancing our data improves model bias towards the \"Rock\" classification while retaining overall classification performance. </p>\n",
    "<p>Note that we have already reduced the size of our dataset and will go forward without applying any dimensionality reduction. In practice, we would consider dimensionality reduction more rigorously when dealing with vastly large datasets and when computation times become prohibitively large.</p>"
   ]
  },
  {
   "cell_type": "code",
   "execution_count": 11,
   "id": "55c19e0e",
   "metadata": {
    "dc": {
     "key": "59"
    },
    "slideshow": {
     "slide_type": "slide"
    },
    "tags": [
     "sample_code"
    ]
   },
   "outputs": [
    {
     "name": "stdout",
     "output_type": "stream",
     "text": [
      "Decision Tree: \n",
      "               precision    recall  f1-score   support\n",
      "\n",
      "     Hip-Hop       0.79      0.80      0.79       230\n",
      "        Rock       0.79      0.78      0.79       225\n",
      "\n",
      "    accuracy                           0.79       455\n",
      "   macro avg       0.79      0.79      0.79       455\n",
      "weighted avg       0.79      0.79      0.79       455\n",
      "\n",
      "Logistic Regression: \n",
      "               precision    recall  f1-score   support\n",
      "\n",
      "     Hip-Hop       0.88      0.83      0.86       230\n",
      "        Rock       0.84      0.89      0.86       225\n",
      "\n",
      "    accuracy                           0.86       455\n",
      "   macro avg       0.86      0.86      0.86       455\n",
      "weighted avg       0.86      0.86      0.86       455\n",
      "\n"
     ]
    }
   ],
   "source": [
    "# Train our decision tree on the balanced data\n",
    "tree = DecisionTreeClassifier(random_state=10)\n",
    "tree.fit(train_features, train_labels)\n",
    "pred_labels_tree = tree.predict(test_features)\n",
    "\n",
    "# Train our logistic regression on the balanced data\n",
    "logreg = LogisticRegression(random_state=10)\n",
    "logreg.fit(train_features, train_labels)\n",
    "pred_labels_logit = logreg.predict(test_features)\n",
    "\n",
    "# Compare the models\n",
    "print(\"Decision Tree: \\n\", classification_report(test_labels, pred_labels_tree))\n",
    "print(\"Logistic Regression: \\n\", classification_report(test_labels, pred_labels_logit))"
   ]
  },
  {
   "cell_type": "markdown",
   "id": "3202101d",
   "metadata": {
    "dc": {
     "key": "66"
    },
    "deletable": false,
    "editable": false,
    "run_control": {
     "frozen": true
    },
    "tags": [
     "context"
    ]
   },
   "source": [
    "## 10. Using cross-validation to evaluate our models\n",
    "<p>Success! Balancing our data has removed bias towards the more prevalent class. To get a good sense of how well our models are actually performing, we can apply what's called <strong>cross-validation</strong> (CV). This step allows us to compare models in a more rigorous fashion.</p>\n",
    "<p>Since the way our data is split into train and test sets can impact model performance, CV attempts to split the data multiple ways and test the model on each of the splits. Although there are many different CV methods, all with their own advantages and disadvantages, we will use what's known as <strong>K-fold</strong> CV here. K-fold first splits the data into K different, equally sized subsets. Then, it iteratively uses each subset as a test set while using the remainder of the data as train sets. Finally, we can then aggregate the results from each fold for a final model performance score.</p>"
   ]
  },
  {
   "cell_type": "code",
   "execution_count": 12,
   "id": "6ca2aaa1",
   "metadata": {
    "dc": {
     "key": "66"
    },
    "slideshow": {
     "slide_type": "slide"
    },
    "tags": [
     "sample_code"
    ]
   },
   "outputs": [
    {
     "name": "stdout",
     "output_type": "stream",
     "text": [
      "Decision Tree: 0.7763736263736263 Logistic Regression: 0.8335164835164836\n"
     ]
    }
   ],
   "source": [
    "from sklearn.model_selection import KFold, cross_val_score\n",
    "\n",
    "# Set up our K-fold cross-validation\n",
    "kf = KFold(10)\n",
    "\n",
    "tree = DecisionTreeClassifier(random_state=10)\n",
    "logreg = LogisticRegression(random_state=10)\n",
    "\n",
    "# Train our models using KFold cv\n",
    "tree_score = cross_val_score(tree, pca_projection, labels, cv=kf)\n",
    "logit_score = cross_val_score(logreg, pca_projection, labels, cv=kf)\n",
    "\n",
    "# Print the mean of each array of scores\n",
    "print(\"Decision Tree:\", np.mean(tree_score), \"Logistic Regression:\", np.mean(logit_score))"
   ]
  },
  {
   "cell_type": "markdown",
   "id": "8c7e9747",
   "metadata": {
    "slideshow": {
     "slide_type": "slide"
    }
   },
   "source": [
    "> #### <font color=red> Rq:</font> À partir de l'analyse ci-dessus, nous pouvons voir que la régression logistique fonctionne mieux dans la classification des chansons par rapport à l'arbre de décision."
   ]
  }
 ],
 "metadata": {
  "celltoolbar": "Diaporama",
  "kernelspec": {
   "display_name": "Python 3 (ipykernel)",
   "language": "python",
   "name": "python3"
  },
  "language_info": {
   "codemirror_mode": {
    "name": "ipython",
    "version": 3
   },
   "file_extension": ".py",
   "mimetype": "text/x-python",
   "name": "python",
   "nbconvert_exporter": "python",
   "pygments_lexer": "ipython3",
   "version": "3.8.3"
  }
 },
 "nbformat": 4,
 "nbformat_minor": 5
}
