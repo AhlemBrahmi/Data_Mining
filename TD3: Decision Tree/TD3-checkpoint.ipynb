{
 "cells": [
  {
   "cell_type": "markdown",
   "id": "428752e3",
   "metadata": {},
   "source": [
    "![alt text](img.png \"ok\")"
   ]
  },
  {
   "cell_type": "markdown",
   "id": "b2d7e290",
   "metadata": {},
   "source": [
    "### <font color=orange><center>Réalisé par: Ahlem Brahmi <br> 3DNI1 </font><center>"
   ]
  },
  {
   "cell_type": "markdown",
   "id": "68317afb",
   "metadata": {},
   "source": [
    "### <font color=green>Exercice1:</font>"
   ]
  },
  {
   "cell_type": "markdown",
   "id": "dcfe20b9",
   "metadata": {},
   "source": [
    "![alt text](img1.png \"ok\")"
   ]
  },
  {
   "cell_type": "markdown",
   "id": "495ca343",
   "metadata": {},
   "source": [
    "### A. Compute the Gini index for the overall collection of training examples."
   ]
  },
  {
   "cell_type": "markdown",
   "id": "faa30a3d",
   "metadata": {},
   "source": [
    "![alt text](img2.png \"ok\")"
   ]
  },
  {
   "cell_type": "markdown",
   "id": "f13109aa",
   "metadata": {},
   "source": [
    "<font color=blue><b><u>réponse: </font>  "
   ]
  },
  {
   "cell_type": "markdown",
   "id": "c77e5f73",
   "metadata": {},
   "source": [
    "G=1-(1/2)²-(1/2)²=1/2"
   ]
  },
  {
   "cell_type": "markdown",
   "id": "e1b395a9",
   "metadata": {},
   "source": [
    "### B. Compute the Gini index for the ‘Customer ID‘ attribute."
   ]
  },
  {
   "cell_type": "markdown",
   "id": "766985dc",
   "metadata": {},
   "source": [
    "<font color=blue><b><u>réponse: </font>  "
   ]
  },
  {
   "cell_type": "markdown",
   "id": "afc61239",
   "metadata": {},
   "source": [
    "Gini(customer ID)=0"
   ]
  },
  {
   "cell_type": "markdown",
   "id": "77725bfa",
   "metadata": {},
   "source": [
    "### C. Compute the Gini index for the 'Gender' attribute."
   ]
  },
  {
   "cell_type": "markdown",
   "id": "ae0b703c",
   "metadata": {},
   "source": [
    "![alt text](img3.png \"ok\")"
   ]
  },
  {
   "cell_type": "markdown",
   "id": "be67fc11",
   "metadata": {},
   "source": [
    "<font color=blue><b><u>réponse: </font>  \n",
    "   "
   ]
  },
  {
   "cell_type": "markdown",
   "id": "10e9071d",
   "metadata": {},
   "source": [
    "Gini(M)=1-(0.6)²-(0.4)²=0.48\n",
    "    "
   ]
  },
  {
   "cell_type": "markdown",
   "id": "ff7c89ae",
   "metadata": {},
   "source": [
    "Gini(F)=1-(0.4)²-(0.6)²=0.48"
   ]
  },
  {
   "cell_type": "markdown",
   "id": "140f0861",
   "metadata": {},
   "source": [
    "### D. Compute the Gini index for the 'Car Type' attribute using multiway split."
   ]
  },
  {
   "cell_type": "markdown",
   "id": "da3a5897",
   "metadata": {},
   "source": [
    "![alt text](img4.png \"ok\")"
   ]
  },
  {
   "cell_type": "markdown",
   "id": "d2957b51",
   "metadata": {},
   "source": [
    "<font color=blue><b><u>réponse: </font>  "
   ]
  },
  {
   "cell_type": "markdown",
   "id": "581c4fab",
   "metadata": {},
   "source": [
    "Gini(Family)=1-(1/4)²-(3/4)²=0.375"
   ]
  },
  {
   "cell_type": "markdown",
   "id": "a42ad482",
   "metadata": {},
   "source": [
    "Gini(Sports)=1-(1)²-(0)²=0"
   ]
  },
  {
   "cell_type": "markdown",
   "id": "94b92167",
   "metadata": {},
   "source": [
    "Gini(Luxury)=1-(1/8)²-(7/8)²=0.2187"
   ]
  },
  {
   "cell_type": "markdown",
   "id": "9fa212b3",
   "metadata": {},
   "source": [
    "===> Gain=4/20 * 0.375 + 0 + 8/20 * 0.2187= 0.16248"
   ]
  },
  {
   "cell_type": "markdown",
   "id": "2c490e9d",
   "metadata": {},
   "source": [
    "### E. Compute the Gini index for the 'Shirt Size' attribute using multiway split."
   ]
  },
  {
   "cell_type": "markdown",
   "id": "0cc10b4a",
   "metadata": {},
   "source": [
    "![alt text](img5.png \"ok\")"
   ]
  },
  {
   "cell_type": "markdown",
   "id": "6eb0b1cb",
   "metadata": {},
   "source": [
    "<font color=blue><b><u>réponse: </font>  "
   ]
  },
  {
   "cell_type": "markdown",
   "id": "cbe72b4b",
   "metadata": {},
   "source": [
    "Gini(Small)=1-(3/5)²-(2/5)²=0.48"
   ]
  },
  {
   "cell_type": "markdown",
   "id": "b981bf0b",
   "metadata": {},
   "source": [
    "Gini(Meduim)=1-(4/7)²-(3/7)²=0.49"
   ]
  },
  {
   "cell_type": "markdown",
   "id": "addf8f1d",
   "metadata": {},
   "source": [
    "Gini(ExtraLarge)=1-(2/4)²-(2/4)²=0.5"
   ]
  },
  {
   "cell_type": "markdown",
   "id": "05b09a00",
   "metadata": {},
   "source": [
    "Gini(Large)=1-(2/4)²-(2/4)²=0.5"
   ]
  },
  {
   "cell_type": "markdown",
   "id": "752918c2",
   "metadata": {},
   "source": [
    "===> Gain=5/20 * 0.48 + 7/20 * 0.49 + 4/20 * 0.5 + 4/20 * 0.5 = 0.4915"
   ]
  },
  {
   "cell_type": "markdown",
   "id": "2723277b",
   "metadata": {},
   "source": [
    "### F. Which attribute is better, Gender, Car Type, or Shirt Size?"
   ]
  },
  {
   "cell_type": "markdown",
   "id": "0bf28dd1",
   "metadata": {},
   "source": [
    "<font color=blue><b><u>réponse: </font>  "
   ]
  },
  {
   "cell_type": "markdown",
   "id": "6166a86c",
   "metadata": {},
   "source": [
    "Gain(Gender) = 0.5 − 0.48 = 0.02"
   ]
  },
  {
   "cell_type": "markdown",
   "id": "3309d312",
   "metadata": {},
   "source": [
    "Gain(Car Type) = 0.5 − 0.16248 = 0.3375"
   ]
  },
  {
   "cell_type": "markdown",
   "id": "9661b977",
   "metadata": {},
   "source": [
    "Gain(Shirt Size) = 0.5 − 0.4915 = 0.0081"
   ]
  },
  {
   "cell_type": "markdown",
   "id": "04f0b2c6",
   "metadata": {},
   "source": [
    "> <font color=red><b> Rq: From the results above, the Car Type would give the highest gain in purity (based on the Gini index)."
   ]
  },
  {
   "cell_type": "markdown",
   "id": "ea4ab3ae",
   "metadata": {},
   "source": [
    "### G. Explain why Customer ID should not be used as the attribute test condition even though it has the lowest Gini."
   ]
  },
  {
   "cell_type": "markdown",
   "id": "fb8933be",
   "metadata": {},
   "source": [
    "<font color=blue><b><u>réponse: </font>  "
   ]
  },
  {
   "cell_type": "markdown",
   "id": "52f35959",
   "metadata": {},
   "source": [
    ">L'index de Gini de chaque partition ID est nul, car il ne contient qu'un seul enregistrement. Ajouter plus d'identifiants à\n",
    "la table ne fera qu'augmenter le nombre de partitions, ce qui n'entraînera aucun autre gain de pureté."
   ]
  },
  {
   "cell_type": "markdown",
   "id": "30501eae",
   "metadata": {},
   "source": [
    "### <font color=green>Exercice2:</font>"
   ]
  },
  {
   "cell_type": "markdown",
   "id": "f6db9ebb",
   "metadata": {},
   "source": [
    "![alt text](img6.png \"ok\")"
   ]
  },
  {
   "cell_type": "markdown",
   "id": "3adb183b",
   "metadata": {},
   "source": [
    "### A. What is the entropy of this collection of training examples with respect to the class attribute?"
   ]
  },
  {
   "cell_type": "markdown",
   "id": "be3d9ae9",
   "metadata": {},
   "source": [
    "![alt text](img0.png \"ok\")"
   ]
  },
  {
   "cell_type": "markdown",
   "id": "84367394",
   "metadata": {},
   "source": [
    "<font color=blue><b><u>réponse: </font>"
   ]
  },
  {
   "cell_type": "markdown",
   "id": "da811f8e",
   "metadata": {},
   "source": [
    "Entropy (Class) = p log2(p) − (1 − p) log2(1 − p) = -(4/9) log2(4/9) − (5/9) log2(5/9) = 0.9911"
   ]
  },
  {
   "cell_type": "markdown",
   "id": "3d2604d6",
   "metadata": {},
   "source": [
    "### B. What are the information gains of a1 and a2 relative to these training examples?"
   ]
  },
  {
   "cell_type": "markdown",
   "id": "60242d1c",
   "metadata": {},
   "source": [
    "<font color=blue><b><u>réponse: </font>"
   ]
  },
  {
   "cell_type": "markdown",
   "id": "109a7a6f",
   "metadata": {},
   "source": [
    "> <b> Pour a1:"
   ]
  },
  {
   "cell_type": "markdown",
   "id": "9f7af275",
   "metadata": {},
   "source": [
    "![alt text](img7.png \"ok\")"
   ]
  },
  {
   "cell_type": "markdown",
   "id": "02406cb5",
   "metadata": {},
   "source": [
    "Entropy (a1) = 4/9(−3/4 log2(3/4) − 1/4 log2(1/4)) + 5/9(−1/5log2(1/5) − 4/5log2(4/5)) = 0.7616"
   ]
  },
  {
   "cell_type": "markdown",
   "id": "9b2568af",
   "metadata": {},
   "source": [
    "> <b> Pour a2:"
   ]
  },
  {
   "cell_type": "markdown",
   "id": "49a09e6a",
   "metadata": {},
   "source": [
    "![alt text](img8.png \"ok\")"
   ]
  },
  {
   "cell_type": "markdown",
   "id": "34838595",
   "metadata": {},
   "source": [
    "Entropy (a2)=5/9(-2/5 log2(2/5) - 3/5 log2(3/5)) + 4/9(-2/4 log2(2/4) - 2/4 log2(2/4))= 0.9838"
   ]
  },
  {
   "cell_type": "markdown",
   "id": "df2f5e9c",
   "metadata": {},
   "source": [
    "<b>==> SO the information gain:"
   ]
  },
  {
   "cell_type": "markdown",
   "id": "abb5e58f",
   "metadata": {},
   "source": [
    "\n",
    "Gain (a1) = 0.9911 − 0.7616 = 0.2295\n"
   ]
  },
  {
   "cell_type": "markdown",
   "id": "e0bd8239",
   "metadata": {},
   "source": [
    "Gain (a2) =0.9911 − 0.9838=0.0073"
   ]
  },
  {
   "cell_type": "markdown",
   "id": "e4d09b91",
   "metadata": {},
   "source": [
    "### C. For a3, which is a continuous attribute, compute the information gain for every possible split."
   ]
  },
  {
   "cell_type": "markdown",
   "id": "d52f18a5",
   "metadata": {},
   "source": [
    "![alt text](img9.png \"ok\")"
   ]
  },
  {
   "cell_type": "markdown",
   "id": "43e3ec47",
   "metadata": {},
   "source": [
    "<font color=blue><b><u>réponse: </font>  "
   ]
  },
  {
   "cell_type": "markdown",
   "id": "fe7c65ac",
   "metadata": {},
   "source": [
    "<b>* Each matrix is the weighted entropy and information gain (E/G) in each case.<br>\n",
    "*This corresponds to splitting at a3 = 2.0.\n"
   ]
  },
  {
   "cell_type": "markdown",
   "id": "110fb7b9",
   "metadata": {},
   "source": [
    "![alt text](img10.png \"ok\")"
   ]
  },
  {
   "cell_type": "markdown",
   "id": "b866169e",
   "metadata": {},
   "source": [
    "### D. What is the best split (among a1, a2, and a3) according to the information gain?"
   ]
  },
  {
   "cell_type": "markdown",
   "id": "deb246f8",
   "metadata": {},
   "source": [
    "<font color=blue><b><u>réponse: </font>  "
   ]
  },
  {
   "cell_type": "markdown",
   "id": "cd185b68",
   "metadata": {},
   "source": [
    "Gain (a1) = 0.2294 <br>\n",
    "Gain (a2) = 0.0072 <br>\n",
    "Gain (a3) = 0.1427"
   ]
  },
  {
   "cell_type": "markdown",
   "id": "7335b185",
   "metadata": {},
   "source": [
    "<font color=purple><b>===>we get the best split from a1</font>."
   ]
  },
  {
   "cell_type": "markdown",
   "id": "80e07080",
   "metadata": {},
   "source": [
    "### E. What is the best split (between a1 and a2) according to the misclassification error rate?"
   ]
  },
  {
   "cell_type": "markdown",
   "id": "47d3b2e8",
   "metadata": {},
   "source": [
    "<font color=blue><b><u>réponse: </font>  "
   ]
  },
  {
   "cell_type": "markdown",
   "id": "e081b1c9",
   "metadata": {},
   "source": [
    "> <b>Pour a1:"
   ]
  },
  {
   "cell_type": "markdown",
   "id": "c798c218",
   "metadata": {},
   "source": [
    "Error(a1) = 4/9(1 −3/4) + 5/9(1 −4/5) = 2/9 "
   ]
  },
  {
   "cell_type": "markdown",
   "id": "b5ee99ce",
   "metadata": {},
   "source": [
    "> <b>Pour a2:"
   ]
  },
  {
   "cell_type": "markdown",
   "id": "a289d3fd",
   "metadata": {},
   "source": [
    "Error(a2) = 5/9(1 −3/5) + 4/9(1 −2/4)=4/9"
   ]
  },
  {
   "cell_type": "markdown",
   "id": "c8524ffd",
   "metadata": {},
   "source": [
    "### F. What is the best split (between a1 and a2) according to the Gini index?"
   ]
  },
  {
   "cell_type": "markdown",
   "id": "3bf15983",
   "metadata": {},
   "source": [
    "<font color=blue><b><u>réponse: </font>  "
   ]
  },
  {
   "cell_type": "markdown",
   "id": "dbcc4de0",
   "metadata": {},
   "source": [
    "> <b>Pour a1:"
   ]
  },
  {
   "cell_type": "markdown",
   "id": "9212a950",
   "metadata": {},
   "source": [
    "![alt text](img7.png \"ok\")"
   ]
  },
  {
   "cell_type": "markdown",
   "id": "6c560ab9",
   "metadata": {},
   "source": [
    "Gini(a1) = 4/9(1 - 3²/4² - 1²/4²) + 5/9(1 - 1²/5² - 4²/5²) = 0.3444"
   ]
  },
  {
   "cell_type": "markdown",
   "id": "67e41030",
   "metadata": {},
   "source": [
    "> <b> Pour a2:"
   ]
  },
  {
   "cell_type": "markdown",
   "id": "d4714cd6",
   "metadata": {},
   "source": [
    "![alt text](img8.png \"ok\")"
   ]
  },
  {
   "cell_type": "markdown",
   "id": "b7919ec5",
   "metadata": {},
   "source": [
    "Gini(a2) = 5/9(1 - 2²/5² - 3²/5² ) + 4/9(1- 2²/4² - 2²/4²) = 0.4889\n"
   ]
  }
 ],
 "metadata": {
  "kernelspec": {
   "display_name": "Python 3 (ipykernel)",
   "language": "python",
   "name": "python3"
  },
  "language_info": {
   "codemirror_mode": {
    "name": "ipython",
    "version": 3
   },
   "file_extension": ".py",
   "mimetype": "text/x-python",
   "name": "python",
   "nbconvert_exporter": "python",
   "pygments_lexer": "ipython3",
   "version": "3.8.3"
  }
 },
 "nbformat": 4,
 "nbformat_minor": 5
}
